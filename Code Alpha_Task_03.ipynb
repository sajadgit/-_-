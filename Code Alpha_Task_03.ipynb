{
 "cells": [
  {
   "cell_type": "code",
   "execution_count": 2,
   "id": "4bd6dd3c",
   "metadata": {},
   "outputs": [],
   "source": [
    "import tkinter as tk\n",
    "\n",
    "def generate_fibonacci(n):\n",
    "    fib_series = []\n",
    "    a, b = 0, 1\n",
    "    for _ in range(n):\n",
    "        fib_series.append(a)\n",
    "        a, b = b, a + b\n",
    "    return fib_series\n",
    "\n",
    "def display_fibonacci():\n",
    "    num_terms = int(terms_entry.get())\n",
    "    fibonacci_series = generate_fibonacci(num_terms)\n",
    "    result_label.config(text=f\"Fibonacci series with {num_terms} terms: {fibonacci_series}\")\n",
    "\n",
    "# Create the main window\n",
    "window = tk.Tk()\n",
    "window.title(\"Fibonacci Series Generator\")\n",
    "window.geometry(\"400x400\")  # Set window size\n",
    "window.configure(bg=\"lightgreen\")  # Set background color\n",
    "\n",
    "# Create and place a heading label\n",
    "heading_label = tk.Label(window, text=\"Fibonacci Series Generator\", bg=\"lightgreen\", font=(\"Helvetica\", 16, \"bold\"))\n",
    "heading_label.pack()\n",
    "\n",
    "# Create and place a label and entry widget for the number of terms\n",
    "terms_label = tk.Label(window, text=\"Number of Terms:\", bg=\"lightgreen\")\n",
    "terms_label.pack()\n",
    "terms_entry = tk.Entry(window)\n",
    "terms_entry.pack()\n",
    "\n",
    "# Create a button to generate and display the Fibonacci series\n",
    "generate_button = tk.Button(window, text=\"Generate Fibonacci Series\", command=display_fibonacci)\n",
    "generate_button.pack()\n",
    "\n",
    "# Create a label to display the result\n",
    "result_label = tk.Label(window, text=\"\", bg=\"lightgreen\")\n",
    "result_label.pack()\n",
    "\n",
    "# Start the main event loop\n",
    "window.mainloop()\n"
   ]
  },
  {
   "cell_type": "code",
   "execution_count": null,
   "id": "1e37b0df",
   "metadata": {},
   "outputs": [],
   "source": []
  }
 ],
 "metadata": {
  "kernelspec": {
   "display_name": "Python 3 (ipykernel)",
   "language": "python",
   "name": "python3"
  },
  "language_info": {
   "codemirror_mode": {
    "name": "ipython",
    "version": 3
   },
   "file_extension": ".py",
   "mimetype": "text/x-python",
   "name": "python",
   "nbconvert_exporter": "python",
   "pygments_lexer": "ipython3",
   "version": "3.11.4"
  }
 },
 "nbformat": 4,
 "nbformat_minor": 5
}
