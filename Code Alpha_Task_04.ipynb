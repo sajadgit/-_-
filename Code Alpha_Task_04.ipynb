{
 "cells": [
  {
   "cell_type": "code",
   "execution_count": null,
   "id": "d083034b",
   "metadata": {},
   "outputs": [],
   "source": [
    "import pyttsx3\n",
    "import webbrowser\n",
    "\n",
    "def speak(text):\n",
    "    engine = pyttsx3.init()\n",
    "    print(text)  # Print the text to the console\n",
    "    engine.say(text)\n",
    "    engine.runAndWait()\n",
    "\n",
    "def open_website(website_name):\n",
    "    if \"google\" in website_name:\n",
    "        speak(\"Opening Google.\")\n",
    "        webbrowser.open(\"https://www.google.com\")\n",
    "    elif \"youtube\" in website_name:\n",
    "        speak(\"Opening YouTube.\")\n",
    "        webbrowser.open(\"https://www.youtube.com\")\n",
    "    elif \"facebook\" in website_name:\n",
    "        speak(\"Opening Facebook.\")\n",
    "        webbrowser.open(\"https://www.facebook.com\")\n",
    "    elif \"wikipedia\" in website_name:\n",
    "        speak(\"Opening Wikipedia.\")\n",
    "        webbrowser.open(\"https://www.wikipedia.org\")\n",
    "    else:\n",
    "        speak(\"I don't recognize that command.\")\n",
    "        \n",
    "if __name__ == \"__main__\":\n",
    "    while True:\n",
    "        user_input = input(\"Please say something: \").lower()\n",
    "        if user_input == \"exit\":\n",
    "            break\n",
    "        if user_input:\n",
    "            open_website(user_input)\n"
   ]
  }
 ],
 "metadata": {
  "kernelspec": {
   "display_name": "Python 3 (ipykernel)",
   "language": "python",
   "name": "python3"
  },
  "language_info": {
   "codemirror_mode": {
    "name": "ipython",
    "version": 3
   },
   "file_extension": ".py",
   "mimetype": "text/x-python",
   "name": "python",
   "nbconvert_exporter": "python",
   "pygments_lexer": "ipython3",
   "version": "3.10.9"
  }
 },
 "nbformat": 4,
 "nbformat_minor": 5
}
