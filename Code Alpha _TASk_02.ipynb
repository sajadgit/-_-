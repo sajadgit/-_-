{
 "cells": [
  {
   "cell_type": "code",
   "execution_count": 4,
   "id": "1ac7af9c",
   "metadata": {},
   "outputs": [],
   "source": [
    "import tkinter as tk\n",
    "\n",
    "def generate_numbers():\n",
    "    start = int(start_entry.get())\n",
    "    end = int(end_entry.get())\n",
    "    step = int(step_entry.get())\n",
    "    numbers = list(range(start, end, step))\n",
    "    \n",
    "    # Clear the result_label\n",
    "    result_label.config(text=\"\")\n",
    "    \n",
    "    for number in numbers:\n",
    "        result_label.config(text=result_label.cget(\"text\") + str(number) + \" \")\n",
    "\n",
    "# Create the main window\n",
    "window = tk.Tk()\n",
    "window.title(\"BINARY SEARCH ALGORITHM\")\n",
    "window.geometry(\"400x400\")  # Set window size\n",
    "window.configure(bg=\"lightblue\")  # Set background color\n",
    "\n",
    "# Create a heading label\n",
    "heading_label = tk.Label(window, text=\"BINARY SEARCH ALGORITHM\", font=(\"Helvetica\", 16, \"bold\"), bg=\"lightblue\")\n",
    "heading_label.pack()\n",
    "\n",
    "# Create and place labels and entry widgets for start, end, and step values\n",
    "start_label = tk.Label(window, text=\"Start Value:\", bg=\"lightblue\")\n",
    "start_label.pack()\n",
    "start_entry = tk.Entry(window)\n",
    "start_entry.pack()\n",
    "\n",
    "end_label = tk.Label(window, text=\"End Value:\", bg=\"lightblue\")\n",
    "end_label.pack()\n",
    "end_entry = tk.Entry(window)\n",
    "end_entry.pack()\n",
    "\n",
    "step_label = tk.Label(window, text=\"Step Value:\", bg=\"lightblue\")\n",
    "step_label.pack()\n",
    "step_entry = tk.Entry(window)\n",
    "step_entry.pack()\n",
    "\n",
    "# Create a button to trigger the number generation\n",
    "generate_button = tk.Button(window, text=\"Generate Numbers\", command=generate_numbers, bg=\"lightgreen\")\n",
    "generate_button.pack()\n",
    "\n",
    "# Create a label to display the result\n",
    "result_label = tk.Label(window, text=\"\", bg=\"lightblue\")\n",
    "result_label.pack()\n",
    "\n",
    "# Start the main event loop\n",
    "window.mainloop()\n"
   ]
  },
  {
   "cell_type": "code",
   "execution_count": null,
   "id": "cc368cfb",
   "metadata": {},
   "outputs": [],
   "source": []
  }
 ],
 "metadata": {
  "kernelspec": {
   "display_name": "Python 3 (ipykernel)",
   "language": "python",
   "name": "python3"
  },
  "language_info": {
   "codemirror_mode": {
    "name": "ipython",
    "version": 3
   },
   "file_extension": ".py",
   "mimetype": "text/x-python",
   "name": "python",
   "nbconvert_exporter": "python",
   "pygments_lexer": "ipython3",
   "version": "3.11.4"
  }
 },
 "nbformat": 4,
 "nbformat_minor": 5
}
